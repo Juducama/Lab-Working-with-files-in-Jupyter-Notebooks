{
 "cells": [
  {
   "cell_type": "markdown",
   "id": "87377236-e204-44f9-a473-c31f22a98071",
   "metadata": {},
   "source": [
    "# Data Science Tools and Ecosystem"
   ]
  },
  {
   "cell_type": "markdown",
   "id": "40c815d0-b0b3-4d2f-a87e-71be51e42ab2",
   "metadata": {},
   "source": [
    "In this notebook, Data Science Tools and Ecosystem are summarized"
   ]
  },
  {
   "cell_type": "markdown",
   "id": "e259c458-07d8-4eed-b3de-e1a8ce79695b",
   "metadata": {},
   "source": [
    "**Objectives:**\n",
    "- List popular languages for Data Science\n",
    "- List popular libraries used by Data Scientis\n",
    "- Examples of arithmetic expressions in Python"
   ]
  },
  {
   "cell_type": "markdown",
   "id": "adf1c923-7eda-4f9c-ac7c-c1816770aed1",
   "metadata": {},
   "source": [
    "Some of the popular languages that Data Scientists use are:"
   ]
  },
  {
   "cell_type": "markdown",
   "id": "aab1d04f-8037-446c-855a-3b53200367cb",
   "metadata": {},
   "source": [
    "1. Julia\n",
    "2. Python\n",
    "3. R"
   ]
  },
  {
   "cell_type": "markdown",
   "id": "334f3fd8-1c66-401c-b543-f1f0088e73e1",
   "metadata": {},
   "source": [
    "Some of the commonly used libraries used by Data Scientists include:"
   ]
  },
  {
   "cell_type": "markdown",
   "id": "acde720a-db2b-4cef-a50e-e9e493154c4d",
   "metadata": {},
   "source": [
    "1. Matplotlib\n",
    "2. Seaborn\n",
    "3. Pandas\n",
    "4. Numpy"
   ]
  },
  {
   "cell_type": "markdown",
   "id": "fa500d84-2241-4582-8821-fd0dd6796a39",
   "metadata": {},
   "source": [
    "|Data Science Tools|\n",
    "|----|\n",
    "|Jupyter Notebook|\n",
    "|RStudio|\n",
    "|Spyder|\n",
    "|Anaconda|"
   ]
  },
  {
   "cell_type": "markdown",
   "id": "c552e4c9-6458-4786-a7c9-18ab50ce9a1c",
   "metadata": {},
   "source": [
    "### Below are a few examples of evaluating arithmetic expressions in Python."
   ]
  },
  {
   "cell_type": "code",
   "execution_count": 3,
   "id": "7f5e437d-4a2b-427f-9b4c-61ddcb03036b",
   "metadata": {},
   "outputs": [
    {
     "data": {
      "text/plain": [
       "17"
      ]
     },
     "execution_count": 3,
     "metadata": {},
     "output_type": "execute_result"
    }
   ],
   "source": [
    "#This a simple arithmetic expression to mutiply then add integers.\n",
    "(3*4)+5\n"
   ]
  },
  {
   "cell_type": "code",
   "execution_count": 4,
   "id": "1159506d-6931-4067-afd0-179904ba0a21",
   "metadata": {},
   "outputs": [
    {
     "data": {
      "text/plain": [
       "3.3333333333333335"
      ]
     },
     "execution_count": 4,
     "metadata": {},
     "output_type": "execute_result"
    }
   ],
   "source": [
    "#This will convert 200 minutes to hours by diving by 60\n",
    "200/60"
   ]
  },
  {
   "cell_type": "markdown",
   "id": "96438201-c1d0-4c73-a8bc-30d94d6d4c76",
   "metadata": {},
   "source": [
    "## Author"
   ]
  },
  {
   "cell_type": "markdown",
   "id": "6c8b31c4-5cac-473d-8b58-42aaa2b1eb1d",
   "metadata": {},
   "source": [
    "Juan Carlos Sánchez"
   ]
  }
 ],
 "metadata": {
  "kernelspec": {
   "display_name": "Python 3 (ipykernel)",
   "language": "python",
   "name": "python3"
  },
  "language_info": {
   "codemirror_mode": {
    "name": "ipython",
    "version": 3
   },
   "file_extension": ".py",
   "mimetype": "text/x-python",
   "name": "python",
   "nbconvert_exporter": "python",
   "pygments_lexer": "ipython3",
   "version": "3.13.5"
  }
 },
 "nbformat": 4,
 "nbformat_minor": 5
}
